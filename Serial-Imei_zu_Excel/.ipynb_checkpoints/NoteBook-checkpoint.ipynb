{
 "cells": [
  {
   "cell_type": "code",
   "execution_count": 144,
   "metadata": {},
   "outputs": [
    {
     "name": "stdout",
     "output_type": "stream",
     "text": [
      "Serials: \n",
      "['FOFXWO6YJF89', 'FOFXW12CJF89', 'FOFXWOAFJF89', 'FOFXWOTSJF89', 'FOFXW117JF89']\n",
      "IMEI: \n",
      "['Numbers', '354888092654318', '354888092545342', '354888092731090', '354888092728492', '354888092646389']\n"
     ]
    }
   ],
   "source": [
    "try:\n",
    "    from PIL import Image\n",
    "except ImportError:\n",
    "    import Image\n",
    "import pytesseract\n",
    "import numpy as np\n",
    "import cv2\n",
    "import re\n",
    "\n",
    "img = cv2.imread('try.jpg',0)\n",
    "#img = cv2.resize(img, None, fx=1, fy=1, interpolation=cv2.INTER_AREA)\n",
    "img = cv2.bilateralFilter(img,9,75,75)\n",
    "#img = cv2.medianBlur(img, 3)\n",
    "#img = cv2.adaptiveThreshold(img, 240, cv2.ADAPTIVE_THRESH_GAUSSIAN_C, cv2.THRESH_BINARY, 31, 2)\n",
    "cv2.imshow('image',img)\n",
    "cv2.waitKey(0)\n",
    "cv2.destroyAllWindows()\n",
    "cv2.imwrite('try1.jpg',img)\n",
    "\n",
    "string = 'Serial'\n",
    "\n",
    "myList = []\n",
    "\n",
    "\n",
    "pytesseract.pytesseract.tesseract_cmd = r'C:\\Program Files (x86)\\Tesseract-OCR\\tesseract'\n",
    "\n",
    "c = pytesseract.image_to_string(Image.open('try1.jpg'),config='--psm 3')\n",
    "\n",
    "\n",
    "startS = 'Serial # '\n",
    "endS = ''\n",
    "\n",
    "startI = 'MEID '\n",
    "endI  = ''\n",
    "\n",
    "resultSerial = re.findall('%s(.*)%s' % (startS, endS), c)\n",
    "print('Serials: ')\n",
    "print(resultSerial)\n",
    "\n",
    "resultImei = re.findall('%s(.*)%s' % (startI,endI), c)\n",
    "print('IMEI: ')\n",
    "print(resultImei)"
   ]
  },
  {
   "cell_type": "code",
   "execution_count": 146,
   "metadata": {},
   "outputs": [
    {
     "data": {
      "text/plain": [
       "['F9FXWO6YJF89',\n",
       " 'F9FXW12CJF89',\n",
       " 'F9FXWOAFJF89',\n",
       " 'F9FXWOTSJF89',\n",
       " 'F9FXW117JF89']"
      ]
     },
     "execution_count": 146,
     "metadata": {},
     "output_type": "execute_result"
    }
   ],
   "source": [
    "\n",
    "templist = []\n",
    "for i in resultSerial:\n",
    "   x = i\n",
    "   x = list(x)  # Convert the string to a list\n",
    "   x[1] = \"9\"  # Change the character using its index\n",
    "   x = \"\".join(x)  # Change the list back to string, by using 'join' method of strings. (Google it)\n",
    "   templist.append(x)\n",
    "\n",
    "templist"
   ]
  },
  {
   "cell_type": "code",
   "execution_count": 145,
   "metadata": {
    "scrolled": true
   },
   "outputs": [
    {
     "data": {
      "text/plain": [
       "['FOFXWO6YJF89',\n",
       " 'FOFXW12CJF89',\n",
       " 'FOFXWOAFJF89',\n",
       " 'FOFXWOTSJF89',\n",
       " 'FOFXW117JF89']"
      ]
     },
     "execution_count": 145,
     "metadata": {},
     "output_type": "execute_result"
    }
   ],
   "source": [
    "resultImei.remove('Numbers')\n",
    "resultSerial"
   ]
  },
  {
   "cell_type": "raw",
   "metadata": {},
   "source": []
  },
  {
   "cell_type": "code",
   "execution_count": 147,
   "metadata": {},
   "outputs": [],
   "source": [
    "tupelList = list(zip(resultImei,templist))"
   ]
  },
  {
   "cell_type": "code",
   "execution_count": 19,
   "metadata": {},
   "outputs": [],
   "source": [
    "import pandas as pd\n",
    "from pandas import *\n"
   ]
  },
  {
   "cell_type": "code",
   "execution_count": 148,
   "metadata": {},
   "outputs": [],
   "source": [
    "df = pd.DataFrame(tupelList)"
   ]
  },
  {
   "cell_type": "code",
   "execution_count": 149,
   "metadata": {},
   "outputs": [
    {
     "data": {
      "text/html": [
       "<div>\n",
       "<style scoped>\n",
       "    .dataframe tbody tr th:only-of-type {\n",
       "        vertical-align: middle;\n",
       "    }\n",
       "\n",
       "    .dataframe tbody tr th {\n",
       "        vertical-align: top;\n",
       "    }\n",
       "\n",
       "    .dataframe thead th {\n",
       "        text-align: right;\n",
       "    }\n",
       "</style>\n",
       "<table border=\"1\" class=\"dataframe\">\n",
       "  <thead>\n",
       "    <tr style=\"text-align: right;\">\n",
       "      <th></th>\n",
       "      <th>0</th>\n",
       "      <th>1</th>\n",
       "    </tr>\n",
       "  </thead>\n",
       "  <tbody>\n",
       "    <tr>\n",
       "      <th>0</th>\n",
       "      <td>354888092654318</td>\n",
       "      <td>F9FXWO6YJF89</td>\n",
       "    </tr>\n",
       "    <tr>\n",
       "      <th>1</th>\n",
       "      <td>354888092545342</td>\n",
       "      <td>F9FXW12CJF89</td>\n",
       "    </tr>\n",
       "    <tr>\n",
       "      <th>2</th>\n",
       "      <td>354888092731090</td>\n",
       "      <td>F9FXWOAFJF89</td>\n",
       "    </tr>\n",
       "    <tr>\n",
       "      <th>3</th>\n",
       "      <td>354888092728492</td>\n",
       "      <td>F9FXWOTSJF89</td>\n",
       "    </tr>\n",
       "    <tr>\n",
       "      <th>4</th>\n",
       "      <td>354888092646389</td>\n",
       "      <td>F9FXW117JF89</td>\n",
       "    </tr>\n",
       "  </tbody>\n",
       "</table>\n",
       "</div>"
      ],
      "text/plain": [
       "                 0             1\n",
       "0  354888092654318  F9FXWO6YJF89\n",
       "1  354888092545342  F9FXW12CJF89\n",
       "2  354888092731090  F9FXWOAFJF89\n",
       "3  354888092728492  F9FXWOTSJF89\n",
       "4  354888092646389  F9FXW117JF89"
      ]
     },
     "execution_count": 149,
     "metadata": {},
     "output_type": "execute_result"
    }
   ],
   "source": [
    "df"
   ]
  },
  {
   "cell_type": "code",
   "execution_count": 151,
   "metadata": {},
   "outputs": [],
   "source": [
    "writer = ExcelWriter('Seriennummern.xlsx')\n",
    "df.to_excel(writer,'Ipads',index=False)\n",
    "writer.save()"
   ]
  },
  {
   "cell_type": "code",
   "execution_count": 88,
   "metadata": {},
   "outputs": [
    {
     "ename": "NameError",
     "evalue": "name 'tesseract' is not defined",
     "output_type": "error",
     "traceback": [
      "\u001b[1;31m---------------------------------------------------------------------------\u001b[0m",
      "\u001b[1;31mNameError\u001b[0m                                 Traceback (most recent call last)",
      "\u001b[1;32m<ipython-input-88-f1efc895aebe>\u001b[0m in \u001b[0;36m<module>\u001b[1;34m()\u001b[0m\n\u001b[1;32m----> 1\u001b[1;33m \u001b[0mtesseract\u001b[0m \u001b[1;33m-\u001b[0m\u001b[1;33m-\u001b[0m\u001b[0mprint\u001b[0m\u001b[1;33m-\u001b[0m\u001b[0mparameters\u001b[0m\u001b[1;33m\u001b[0m\u001b[0m\n\u001b[0m",
      "\u001b[1;31mNameError\u001b[0m: name 'tesseract' is not defined"
     ]
    }
   ],
   "source": []
  },
  {
   "cell_type": "code",
   "execution_count": null,
   "metadata": {},
   "outputs": [],
   "source": [
    "def changeWord(word):\n",
    "    for letter in word:\n",
    "        if letter == \"O\":\n",
    "            word = word.replace(letter,\"9\")\n",
    "            print(letter)\n",
    "            break\n",
    "    templist.append(word)\n",
    "for i in resultSerial:\n",
    "    changeWord(i)\n",
    "templist\n"
   ]
  }
 ],
 "metadata": {
  "kernelspec": {
   "display_name": "Python 3",
   "language": "python",
   "name": "python3"
  },
  "language_info": {
   "codemirror_mode": {
    "name": "ipython",
    "version": 3
   },
   "file_extension": ".py",
   "mimetype": "text/x-python",
   "name": "python",
   "nbconvert_exporter": "python",
   "pygments_lexer": "ipython3",
   "version": "3.6.2"
  }
 },
 "nbformat": 4,
 "nbformat_minor": 2
}
