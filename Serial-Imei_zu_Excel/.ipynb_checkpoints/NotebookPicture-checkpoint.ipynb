{
 "cells": [
  {
   "cell_type": "code",
   "execution_count": 155,
   "metadata": {},
   "outputs": [
    {
     "name": "stdout",
     "output_type": "stream",
     "text": [
      "Serials: \n",
      "['FOFXWOTSJF89']\n",
      "IMEI: \n",
      "['Numbers', '354888092654318', '3548;', '354888092731090', '354888092728492']\n"
     ]
    }
   ],
   "source": [
    "try:\n",
    "    from PIL import Image\n",
    "except ImportError:\n",
    "    import Image\n",
    "import pytesseract\n",
    "import numpy as np\n",
    "import cv2\n",
    "import re\n",
    "\n",
    "img = cv2.imread('input4.jpg',0)  #load image into buffer\n",
    "img = cv2.resize(img, None, fx=0.3, fy=0.3, interpolation=cv2.INTER_AREA)  #resize image for better accuracy\n",
    "img = cv.blur(img,(5,5))\n",
    "img = cv2.bilateralFilter(img,9,75,75)  #smoothening the backround and sharpening the edges\n",
    "img = cv2.medianBlur(img, 3)  #blurring median pixel next nearby\n",
    "#img = cv2.adaptiveThreshold(img, 150, cv2.ADAPTIVE_THRESH_GAUSSIAN_C, cv2.THRESH_BINARY, 31, 2)  #give threshold to picture (saturation)\n",
    "cv2.imshow('image',img)  #show image\n",
    "cv2.waitKey(0)  # wait for input key\n",
    "cv2.destroyAllWindows()  #close window\n",
    "cv2.imwrite('try1.jpg',img)  #write new altered picture\n",
    "\n",
    "string = 'Serial'  #try to search a specific serial in list\n",
    "\n",
    "myList = []  #list for shit\n",
    "\n",
    "\n",
    "pytesseract.pytesseract.tesseract_cmd = r'C:\\Program Files (x86)\\Tesseract-OCR\\tesseract'  #folder for pytesseract\n",
    "\n",
    "c = pytesseract.image_to_string(Image.open('try1.jpg'),config='--psm 3')  #open image for fetching in --psm 3 standart mode(no need to initialize)\n",
    "\n",
    "\n",
    "startS = 'Serial # '  #star for fetchen Data in picture\n",
    "endS = ''   #end for fetching Data in picture\n",
    "\n",
    "startI = 'MEID '  #start for IMEIS \n",
    "endI  = ''  #end for IMEIS\n",
    "\n",
    "resultSerial = re.findall('%s(.*)%s' % (startS, endS), c)  #find all serianumbers between start and end - searches the whole string\n",
    "print('Serials: ')  #print dat shit\n",
    "print(resultSerial)  #print it again in List\n",
    "\n",
    "resultImei = re.findall('%s(.*)%s' % (startI,endI), c)  #same shit for IMEI\n",
    "print('IMEI: ')\n",
    "print(resultImei)"
   ]
  },
  {
   "cell_type": "code",
   "execution_count": 146,
   "metadata": {},
   "outputs": [
    {
     "data": {
      "text/plain": [
       "['F9FXWO6YJF89',\n",
       " 'F9FXW12CJF89',\n",
       " 'F9FXWOAFJF89',\n",
       " 'F9FXWOTSJF89',\n",
       " 'F9FXW117JF89']"
      ]
     },
     "execution_count": 146,
     "metadata": {},
     "output_type": "execute_result"
    }
   ],
   "source": [
    "\n",
    "templist = []  #templist to store chars of the word for manipulation because str ist not muteable\n",
    "for i in resultSerial:   #for shit\n",
    "   x = i   #unneccessary but easier to understand : storing the char in x and change it to 9\n",
    "   x = list(x)  \n",
    "   x[1] = \"9\"  \n",
    "   x = \"\".join(x)  #rejoing the list into one string\n",
    "   templist.append(x)   #append string to list\n",
    "\n",
    "templist"
   ]
  },
  {
   "cell_type": "code",
   "execution_count": 145,
   "metadata": {
    "scrolled": true
   },
   "outputs": [
    {
     "data": {
      "text/plain": [
       "['FOFXWO6YJF89',\n",
       " 'FOFXW12CJF89',\n",
       " 'FOFXWOAFJF89',\n",
       " 'FOFXWOTSJF89',\n",
       " 'FOFXW117JF89']"
      ]
     },
     "execution_count": 145,
     "metadata": {},
     "output_type": "execute_result"
    }
   ],
   "source": [
    "resultImei.remove('Numbers')  #remoning 'numbers' out of the IMEI list - because there is no way to extract that while reading\n",
    "resultSerial"
   ]
  },
  {
   "cell_type": "raw",
   "metadata": {},
   "source": []
  },
  {
   "cell_type": "code",
   "execution_count": 147,
   "metadata": {},
   "outputs": [],
   "source": [
    "tupelList = list(zip(resultImei,templist))  #create a tuple list to store data in excel"
   ]
  },
  {
   "cell_type": "code",
   "execution_count": 19,
   "metadata": {},
   "outputs": [],
   "source": [
    "import pandas as pd   #pandas for handleing excelfile\n",
    "from pandas import *\n"
   ]
  },
  {
   "cell_type": "code",
   "execution_count": 148,
   "metadata": {},
   "outputs": [],
   "source": [
    "df = pd.DataFrame(tupelList)   #create dataframe to store data in excel"
   ]
  },
  {
   "cell_type": "code",
   "execution_count": 149,
   "metadata": {},
   "outputs": [
    {
     "data": {
      "text/html": [
       "<div>\n",
       "<style scoped>\n",
       "    .dataframe tbody tr th:only-of-type {\n",
       "        vertical-align: middle;\n",
       "    }\n",
       "\n",
       "    .dataframe tbody tr th {\n",
       "        vertical-align: top;\n",
       "    }\n",
       "\n",
       "    .dataframe thead th {\n",
       "        text-align: right;\n",
       "    }\n",
       "</style>\n",
       "<table border=\"1\" class=\"dataframe\">\n",
       "  <thead>\n",
       "    <tr style=\"text-align: right;\">\n",
       "      <th></th>\n",
       "      <th>0</th>\n",
       "      <th>1</th>\n",
       "    </tr>\n",
       "  </thead>\n",
       "  <tbody>\n",
       "    <tr>\n",
       "      <th>0</th>\n",
       "      <td>354888092654318</td>\n",
       "      <td>F9FXWO6YJF89</td>\n",
       "    </tr>\n",
       "    <tr>\n",
       "      <th>1</th>\n",
       "      <td>354888092545342</td>\n",
       "      <td>F9FXW12CJF89</td>\n",
       "    </tr>\n",
       "    <tr>\n",
       "      <th>2</th>\n",
       "      <td>354888092731090</td>\n",
       "      <td>F9FXWOAFJF89</td>\n",
       "    </tr>\n",
       "    <tr>\n",
       "      <th>3</th>\n",
       "      <td>354888092728492</td>\n",
       "      <td>F9FXWOTSJF89</td>\n",
       "    </tr>\n",
       "    <tr>\n",
       "      <th>4</th>\n",
       "      <td>354888092646389</td>\n",
       "      <td>F9FXW117JF89</td>\n",
       "    </tr>\n",
       "  </tbody>\n",
       "</table>\n",
       "</div>"
      ],
      "text/plain": [
       "                 0             1\n",
       "0  354888092654318  F9FXWO6YJF89\n",
       "1  354888092545342  F9FXW12CJF89\n",
       "2  354888092731090  F9FXWOAFJF89\n",
       "3  354888092728492  F9FXWOTSJF89\n",
       "4  354888092646389  F9FXW117JF89"
      ]
     },
     "execution_count": 149,
     "metadata": {},
     "output_type": "execute_result"
    }
   ],
   "source": [
    "df"
   ]
  },
  {
   "cell_type": "code",
   "execution_count": 151,
   "metadata": {},
   "outputs": [],
   "source": [
    "writer = ExcelWriter('Seriennummern.xlsx')  #define writer as name for the excelfile\n",
    "df.to_excel(writer,'Ipads',index=False)   #write data to excel with no index\n",
    "writer.save()  #save file"
   ]
  },
  {
   "cell_type": "code",
   "execution_count": null,
   "metadata": {},
   "outputs": [],
   "source": []
  },
  {
   "cell_type": "code",
   "execution_count": null,
   "metadata": {},
   "outputs": [],
   "source": []
  }
 ],
 "metadata": {
  "kernelspec": {
   "display_name": "Python 3",
   "language": "python",
   "name": "python3"
  },
  "language_info": {
   "codemirror_mode": {
    "name": "ipython",
    "version": 3
   },
   "file_extension": ".py",
   "mimetype": "text/x-python",
   "name": "python",
   "nbconvert_exporter": "python",
   "pygments_lexer": "ipython3",
   "version": "3.6.2"
  }
 },
 "nbformat": 4,
 "nbformat_minor": 2
}
